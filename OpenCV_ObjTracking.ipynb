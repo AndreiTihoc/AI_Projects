{
  "nbformat": 4,
  "nbformat_minor": 0,
  "metadata": {
    "colab": {
      "provenance": [],
      "authorship_tag": "ABX9TyOIfeKcwROBrapfwLyD5YE5"
    },
    "kernelspec": {
      "name": "python3",
      "display_name": "Python 3"
    },
    "language_info": {
      "name": "python"
    }
  },
  "cells": [
    {
      "cell_type": "markdown",
      "source": [
        "**OpenCV Object Tracking Project**\n",
        "\n",
        "Author: Tihoc Andrei"
      ],
      "metadata": {
        "id": "gr-GE3vd18By"
      }
    },
    {
      "cell_type": "markdown",
      "source": [
        "\n",
        "\n",
        "## First Part -- Video Generation (Technical Details)\n",
        "\n",
        "The video is synthetically generated using Python to simulate a controlled environment for object tracking. A ball moves within a bounded 2D space, bouncing off the edges of the frame. This setup is useful for validating tracking algorithms under predictable conditions.\n",
        "\n",
        "### Parameters:\n",
        "- **Resolution**: 640×480 pixels\n",
        "- **Frame Rate**: 30 FPS\n",
        "- **Duration**: Configurable (e.g., 5 to 60 seconds)\n",
        "- **Object**: Solid color ball with fixed radius and constant velocity vector\n",
        "\n",
        "### Libraries Used:\n",
        "- `pygame` for rendering animation frames and simulating motion\n",
        "- `numpy` for array manipulation (used with Pygame surfaces)\n",
        "- `moviepy.editor.ImageSequenceClip` or `cv2.VideoWriter` to encode frames into `.mp4` or `.avi` format\n",
        "\n",
        "### Frame Generation Process:\n",
        "1. Initialize screen buffer with white background\n",
        "2. Update object position based on velocity\n",
        "3. Check for collision with screen boundaries and invert direction if needed\n",
        "4. Render frame with updated object position\n",
        "5. Store the frame in memory (NumPy format)\n",
        "6. After all frames are generated, encode them into a video file"
      ],
      "metadata": {
        "id": "nZUNxIXT5QxD"
      }
    },
    {
      "cell_type": "code",
      "execution_count": 2,
      "metadata": {
        "colab": {
          "base_uri": "https://localhost:8080/"
        },
        "id": "gwOGMUP_17Wo",
        "outputId": "c1f5f8ca-6c93-4220-d1f5-caf2e9891f5e"
      },
      "outputs": [
        {
          "output_type": "stream",
          "name": "stdout",
          "text": [
            "Moviepy - Building video bouncing_ball.mp4.\n",
            "Moviepy - Writing video bouncing_ball.mp4\n",
            "\n"
          ]
        },
        {
          "output_type": "stream",
          "name": "stderr",
          "text": []
        },
        {
          "output_type": "stream",
          "name": "stdout",
          "text": [
            "Moviepy - Done !\n",
            "Moviepy - video ready bouncing_ball.mp4\n"
          ]
        }
      ],
      "source": [
        "import pygame\n",
        "import moviepy.editor as mpy\n",
        "import numpy as np\n",
        "from pygame import Surface\n",
        "# Parameters\n",
        "WIDTH, HEIGHT = 640, 480\n",
        "BALL_RADIUS = 20\n",
        "FPS = 30\n",
        "DURATION = 20  # seconds\n",
        "\n",
        "# Ball initial position and velocity\n",
        "x, y = WIDTH // 2, HEIGHT // 2\n",
        "vx, vy = 5, 3\n",
        "\n",
        "# Setup Pygame\n",
        "pygame.init()\n",
        "screen = pygame.display.set_mode((WIDTH, HEIGHT))\n",
        "\n",
        "# Collect frames\n",
        "frames = []\n",
        "\n",
        "for frame_count in range(FPS * DURATION):\n",
        "    screen.fill((255, 255, 255))  # White background\n",
        "\n",
        "    # Move ball\n",
        "    x += vx\n",
        "    y += vy\n",
        "\n",
        "    # Bounce off walls\n",
        "    if x - BALL_RADIUS <= 0 or x + BALL_RADIUS >= WIDTH:\n",
        "        vx = -vx\n",
        "    if y - BALL_RADIUS <= 0 or y + BALL_RADIUS >= HEIGHT:\n",
        "        vy = -vy\n",
        "\n",
        "    # Draw ball\n",
        "    pygame.draw.circle(screen, (0, 0, 255), (x, y), BALL_RADIUS)\n",
        "\n",
        "    # Convert Pygame surface to numpy array for moviepy\n",
        "    frame = pygame.surfarray.array3d(screen)\n",
        "    frame = np.transpose(frame, (1, 0, 2))  # Convert from (width, height) to (height, width)\n",
        "    frames.append(frame)\n",
        "\n",
        "pygame.quit()\n",
        "\n",
        "# Create video\n",
        "clip = mpy.ImageSequenceClip(frames, fps=FPS)\n",
        "clip.write_videofile(\"bouncing_ball.mp4\", codec=\"libx264\")\n"
      ]
    },
    {
      "cell_type": "markdown",
      "source": [
        "## Second Part -- Object Tracking with GOTURN\n",
        "\n",
        "This section applies OpenCV's GOTURN tracker to the synthetic video to detect and follow the blue bouncing ball across frames.\n",
        "\n",
        "### Steps:\n",
        "1. Load the synthetic video.\n",
        "2. Manually define the bounding box around the ball in the first frame.\n",
        "3. Initialize the GOTURN tracker with that bounding box.\n",
        "4. Process each frame and update the tracker.\n",
        "5. Draw the tracking bounding box and write the tracked video.\n",
        "\n",
        "### Output:\n",
        "- The tracked video is saved as `bouncing_ball-GOTURN.mp4`.\n",
        "\n",
        "### Requirements:\n",
        "- `opencv-contrib-python`\n",
        "- `moviepy`\n",
        "- `numpy`\n",
        "\n",
        "Ensure GOTURN model is supported in your OpenCV installation. If not, use an alternate tracker like `KCF` or `CSRT`.\n",
        "\n",
        "## Notes:\n",
        "- GOTURN may not perform perfectly on fast-moving objects unless the pretrained Caffe model is used.\n",
        "- For best results, combine motion prediction with color thresholding or template matching if GOTURN fails.\n",
        "- OpenCV must be built with `opencv_contrib` to include GOTURN and other advanced trackers.\n",
        "- The model files `goturn.prototxt` and `goturn.caffemodel` may be needed in certain vers"
      ],
      "metadata": {
        "id": "8V9tmHVY6rkV"
      }
    },
    {
      "cell_type": "code",
      "source": [
        "import cv2\n",
        "import sys\n",
        "from matplotlib import pyplot as plt\n",
        "from IPython.display import HTML\n",
        "from base64 import b64encode\n",
        "\n",
        "# === Helper Functions ===\n",
        "def draw_rectangle(frame, bbox):\n",
        "    p1 = (int(bbox[0]), int(bbox[1]))\n",
        "    p2 = (int(bbox[0] + bbox[2]), int(bbox[1] + bbox[3]))\n",
        "    cv2.rectangle(frame, p1, p2, (255, 0, 0), 2, 1)\n",
        "\n",
        "def draw_text(frame, text, location, color=(50, 170, 50)):\n",
        "    cv2.putText(frame, text, location, cv2.FONT_HERSHEY_SIMPLEX, 1, color, 3)\n",
        "\n",
        "def display_rectangle(frame, bbox):\n",
        "    plt.figure(figsize=(12, 6))\n",
        "    frame_copy = frame.copy()\n",
        "    draw_rectangle(frame_copy, bbox)\n",
        "    frame_copy = cv2.cvtColor(frame_copy, cv2.COLOR_RGB2BGR)\n",
        "    plt.imshow(frame_copy)\n",
        "    plt.axis(\"off\")\n",
        "    plt.show()"
      ],
      "metadata": {
        "id": "hQy-QR6N-mv7"
      },
      "execution_count": 10,
      "outputs": []
    },
    {
      "cell_type": "code",
      "source": [
        "# === Load input video ===\n",
        "video_input_file_name = \"bouncing_ball.mp4\"\n",
        "video = cv2.VideoCapture(video_input_file_name)\n",
        "ok, frame = video.read()\n",
        "\n",
        "if not video.isOpened() or not ok:\n",
        "    print(\"Could not open video or read the first frame.\")\n",
        "    sys.exit()\n"
      ],
      "metadata": {
        "id": "3SBG4dv2-pcl"
      },
      "execution_count": 11,
      "outputs": []
    },
    {
      "cell_type": "code",
      "source": [
        "# === Parameters from video generation ===\n",
        "WIDTH, HEIGHT = 640, 480\n",
        "BALL_RADIUS = 20\n",
        "FPS = 30\n",
        "DURATION = 20\n"
      ],
      "metadata": {
        "id": "_db2o-4N-tDS"
      },
      "execution_count": 12,
      "outputs": []
    },
    {
      "cell_type": "code",
      "source": [
        "# === Define initial bounding box ===\n",
        "# Ball starts at (320, 240), radius 20 → bbox = (300, 220, 40, 40)\n",
        "bbox = (320 - BALL_RADIUS+4, 240 - BALL_RADIUS, BALL_RADIUS * 2, BALL_RADIUS * 2)\n",
        "display_rectangle(frame, bbox)"
      ],
      "metadata": {
        "colab": {
          "base_uri": "https://localhost:8080/",
          "height": 499
        },
        "id": "TH1lhciI-uUA",
        "outputId": "c1c0041f-fdf3-4362-b6b4-86dcd35d8ad1"
      },
      "execution_count": 14,
      "outputs": [
        {
          "output_type": "display_data",
          "data": {
            "text/plain": [
              "<Figure size 1200x600 with 1 Axes>"
            ],
            "image/png": "[encoded data removed]"
          },
          "metadata": {}
        }
      ]
    },
    {
      "cell_type": "code",
      "source": [
        "# === Create and initialize GOTURN tracker ===\n",
        "tracker = cv2.TrackerGOTURN.create()\n",
        "ok = tracker.init(frame, bbox)\n"
      ],
      "metadata": {
        "id": "BoR5rsaY_A0r"
      },
      "execution_count": 15,
      "outputs": []
    },
    {
      "cell_type": "code",
      "source": [
        "# === Setup output video writer ===\n",
        "video_output_file_name = \"bouncing_ball-GOTURN.mp4\"\n",
        "width = int(video.get(cv2.CAP_PROP_FRAME_WIDTH))\n",
        "height = int(video.get(cv2.CAP_PROP_FRAME_HEIGHT))\n",
        "fps = video.get(cv2.CAP_PROP_FPS)\n",
        "\n",
        "video_out = cv2.VideoWriter(\n",
        "    video_output_file_name,\n",
        "    cv2.VideoWriter_fourcc(*\"XVID\"),\n",
        "    fps,\n",
        "    (width, height)\n",
        ")\n"
      ],
      "metadata": {
        "id": "L41WySKS_GXP"
      },
      "execution_count": 16,
      "outputs": []
    },
    {
      "cell_type": "code",
      "source": [
        "# === Tracking loop ===\n",
        "while True:\n",
        "    ok, frame = video.read()\n",
        "    if not ok:\n",
        "        break\n",
        "\n",
        "    timer = cv2.getTickCount()\n",
        "    ok, bbox = tracker.update(frame)\n",
        "    fps_val = cv2.getTickFrequency() / (cv2.getTickCount() - timer)\n",
        "\n",
        "    if ok:\n",
        "        draw_rectangle(frame, bbox)\n",
        "    else:\n",
        "        draw_text(frame, \"Tracking failure detected\", (80, 140), (0, 0, 255))\n",
        "\n",
        "    draw_text(frame, \"GOTURN Tracker\", (80, 60))\n",
        "    draw_text(frame, f\"FPS : {int(fps_val)}\", (80, 100))\n",
        "    video_out.write(frame)\n",
        "\n",
        "video.release()\n",
        "video_out.release()\n",
        "print(f\"Tracking complete. Output saved as: {video_output_file_name}\")"
      ],
      "metadata": {
        "colab": {
          "base_uri": "https://localhost:8080/"
        },
        "id": "k3IWW2zK_Jcp",
        "outputId": "99d8fa89-6dce-478f-e5b0-6dbe6c3ea3d5"
      },
      "execution_count": 17,
      "outputs": [
        {
          "output_type": "stream",
          "name": "stdout",
          "text": [
            "Tracking complete. Output saved as: bouncing_ball-GOTURN.mp4\n"
          ]
        }
      ]
    },
    {
      "cell_type": "markdown",
      "source": [
        "The output can be visualized at: https://github.com/AndreiTihoc/AI_Projects/blob/main/bouncing_ball-GOTURN.mp4\n"
      ],
      "metadata": {
        "id": "qtK7dY8JCSSQ"
      }
    }
  ]
}