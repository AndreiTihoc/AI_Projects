{
  "nbformat": 4,
  "nbformat_minor": 0,
  "metadata": {
    "colab": {
      "provenance": [],
      "authorship_tag": "ABX9TyPyBN85YxgimPU2Der5h+NW"
    },
    "kernelspec": {
      "name": "python3",
      "display_name": "Python 3"
    },
    "language_info": {
      "name": "python"
    }
  },
  "cells": [
    {
      "cell_type": "markdown",
      "source": [
        "**Binary Prediction with a Rainfall Dataset - Kaggle Competition**\n",
        "\n",
        "Author: Tihoc Andrei"
      ],
      "metadata": {
        "id": "Vxr0zxq5ZV05"
      }
    },
    {
      "cell_type": "code",
      "source": [
        "import pandas as pd\n",
        "import optuna\n",
        "from sklearn.ensemble import RandomForestClassifier\n",
        "from xgboost import XGBClassifier\n",
        "from sklearn.model_selection import train_test_split\n",
        "from sklearn.pipeline import Pipeline\n",
        "from sklearn.compose import ColumnTransformer\n",
        "from sklearn.preprocessing import StandardScaler\n",
        "from sklearn.impute import SimpleImputer\n",
        "from sklearn.metrics import roc_auc_score, accuracy_score\n",
        "import warnings\n",
        "warnings.filterwarnings(\"ignore\")\n",
        "\n",
        "RANDOM_STATE = 42"
      ],
      "metadata": {
        "id": "lbp5Zz_iZfbh"
      },
      "execution_count": 16,
      "outputs": []
    },
    {
      "cell_type": "code",
      "source": [
        "# Load dataset\n",
        "def load_data():\n",
        "    train = pd.read_csv(\"train.csv\")\n",
        "    test = pd.read_csv(\"test.csv\")\n",
        "    X = train.drop(columns=\"rainfall\")\n",
        "    y = train[\"rainfall\"]\n",
        "    return X, y, test\n",
        "\n",
        "# Preprocessing pipeline for numeric data\n",
        "def create_preprocessor(X):\n",
        "    numeric_features = X.columns.tolist()\n",
        "    numeric_transformer = Pipeline([\n",
        "        (\"imputer\", SimpleImputer(strategy=\"median\")),\n",
        "        (\"scaler\", StandardScaler())\n",
        "    ])\n",
        "    preprocessor = ColumnTransformer([\n",
        "        (\"num\", numeric_transformer, numeric_features)\n",
        "    ])\n",
        "    return preprocessor"
      ],
      "metadata": {
        "id": "vFIxWjY4Zjjl"
      },
      "execution_count": 17,
      "outputs": []
    },
    {
      "cell_type": "code",
      "source": [
        "# Objective function for XGBoost\n",
        "def objective_xgb(trial, X_train, X_valid, y_train, y_valid, preprocessor):\n",
        "    params = {\n",
        "        'n_estimators': trial.suggest_int('n_estimators', 100, 1000),\n",
        "        'max_depth': trial.suggest_int('max_depth', 3, 15),\n",
        "        'learning_rate': trial.suggest_float('learning_rate', 0.01, 0.3),\n",
        "        'subsample': trial.suggest_float('subsample', 0.5, 1.0),\n",
        "        'colsample_bytree': trial.suggest_float('colsample_bytree', 0.5, 1.0),\n",
        "        'gamma': trial.suggest_float('gamma', 0, 5),\n",
        "        'use_label_encoder': False,\n",
        "        'eval_metric': 'logloss'\n",
        "    }\n",
        "    model = Pipeline([\n",
        "        (\"preprocessor\", preprocessor),\n",
        "        (\"classifier\", XGBClassifier(**params, random_state=RANDOM_STATE))\n",
        "    ])\n",
        "    model.fit(X_train, y_train)\n",
        "    y_prob = model.predict_proba(X_valid)[:, 1]\n",
        "    return roc_auc_score(y_valid, y_prob)"
      ],
      "metadata": {
        "id": "yvMK77T6ZsM1"
      },
      "execution_count": 18,
      "outputs": []
    },
    {
      "cell_type": "code",
      "source": [
        "# Objective function for RandomForest\n",
        "def objective_rf(trial, X_train, X_valid, y_train, y_valid, preprocessor):\n",
        "    params = {\n",
        "        'n_estimators': trial.suggest_int('n_estimators', 100, 1000),\n",
        "        'max_depth': trial.suggest_int('max_depth', 5, 30),\n",
        "        'min_samples_split': trial.suggest_int('min_samples_split', 2, 10),\n",
        "        'min_samples_leaf': trial.suggest_int('min_samples_leaf', 1, 10),\n",
        "        'max_features': trial.suggest_categorical('max_features', ['sqrt', 'log2', None]),\n",
        "        'bootstrap': trial.suggest_categorical('bootstrap', [True, False])\n",
        "    }\n",
        "    model = Pipeline([\n",
        "        (\"preprocessor\", preprocessor),\n",
        "        (\"classifier\", RandomForestClassifier(**params, random_state=RANDOM_STATE))\n",
        "    ])\n",
        "    model.fit(X_train, y_train)\n",
        "    y_prob = model.predict_proba(X_valid)[:, 1]\n",
        "    return roc_auc_score(y_valid, y_prob)"
      ],
      "metadata": {
        "id": "bssqKampZxXz"
      },
      "execution_count": 19,
      "outputs": []
    },
    {
      "cell_type": "code",
      "source": [
        "def main():\n",
        "    X, y, test = load_data()\n",
        "    preprocessor = create_preprocessor(X)\n",
        "    X_train, X_valid, y_train, y_valid = train_test_split(X, y, test_size=0.2, random_state=RANDOM_STATE)\n",
        "\n",
        "    # Optimize XGB\n",
        "    study_xgb = optuna.create_study(direction=\"maximize\")\n",
        "    study_xgb.optimize(lambda trial: objective_xgb(trial, X_train, X_valid, y_train, y_valid, preprocessor), n_trials=30)\n",
        "    print(\"Best AUC XGBoost:\", study_xgb.best_value)\n",
        "    print(\"Best Params XGBoost:\", study_xgb.best_params)\n",
        "\n",
        "    # Optimize RF\n",
        "    study_rf = optuna.create_study(direction=\"maximize\")\n",
        "    study_rf.optimize(lambda trial: objective_rf(trial, X_train, X_valid, y_train, y_valid, preprocessor), n_trials=30)\n",
        "    print(\"Best AUC RandomForest:\", study_rf.best_value)\n",
        "    print(\"Best Params RF:\", study_rf.best_params)\n",
        "\n",
        "    # Final models with best params\n",
        "    xgb_pipeline = Pipeline([\n",
        "        (\"preprocessor\", preprocessor),\n",
        "        (\"classifier\", XGBClassifier(**study_xgb.best_params, random_state=RANDOM_STATE))\n",
        "    ])\n",
        "\n",
        "    rf_pipeline = Pipeline([\n",
        "        (\"preprocessor\", preprocessor),\n",
        "        (\"classifier\", RandomForestClassifier(**study_rf.best_params, random_state=RANDOM_STATE))\n",
        "    ])\n",
        "\n",
        "    xgb_pipeline.fit(X_train, y_train)\n",
        "    rf_pipeline.fit(X_train, y_train)\n",
        "\n",
        "    # Evaluation\n",
        "    print(\"XGBoost Accuracy:\", accuracy_score(y_valid, xgb_pipeline.predict(X_valid)))\n",
        "    print(\"RandomForest Accuracy:\", accuracy_score(y_valid, rf_pipeline.predict(X_valid)))\n",
        "\n",
        "    # Predict and export submission using XGBoost\n",
        "    predictions = xgb_pipeline.predict(test)\n",
        "    submission = pd.DataFrame({\"id\":test[\"id\"],\"rainfall\": predictions})\n",
        "    submission.to_csv(\"submission.csv\", index=False)\n",
        "\n",
        "if __name__ == \"__main__\":\n",
        "   main()"
      ],
      "metadata": {
        "colab": {
          "base_uri": "https://localhost:8080/"
        },
        "id": "dcW4CZwUZ0bf",
        "outputId": "f65d74c8-500a-40a2-c99e-a16607f37d59"
      },
      "execution_count": 21,
      "outputs": [
        {
          "output_type": "stream",
          "name": "stderr",
          "text": [
            "[I 2025-04-03 16:12:32,088] A new study created in memory with name: no-name-f746e3d0-c1ac-4eda-9fe9-d5147200b7b7\n",
            "[I 2025-04-03 16:12:32,369] Trial 0 finished with value: 0.8552988593556545 and parameters: {'n_estimators': 399, 'max_depth': 7, 'learning_rate': 0.24564329800820853, 'subsample': 0.8247800229896708, 'colsample_bytree': 0.7805849972042482, 'gamma': 2.182597884296194}. Best is trial 0 with value: 0.8552988593556545.\n",
            "[I 2025-04-03 16:12:33,101] Trial 1 finished with value: 0.8596190827428151 and parameters: {'n_estimators': 683, 'max_depth': 11, 'learning_rate': 0.14239797830155998, 'subsample': 0.6900802888929873, 'colsample_bytree': 0.7041532656102787, 'gamma': 2.2990634527674803}. Best is trial 1 with value: 0.8596190827428151.\n",
            "[I 2025-04-03 16:12:33,412] Trial 2 finished with value: 0.8677590158320381 and parameters: {'n_estimators': 614, 'max_depth': 10, 'learning_rate': 0.22339850118798815, 'subsample': 0.6642337582623175, 'colsample_bytree': 0.8172905477371281, 'gamma': 4.224190425394286}. Best is trial 2 with value: 0.8677590158320381.\n",
            "[I 2025-04-03 16:12:33,765] Trial 3 finished with value: 0.8453939569558231 and parameters: {'n_estimators': 641, 'max_depth': 14, 'learning_rate': 0.20444562092431326, 'subsample': 0.6750361462763216, 'colsample_bytree': 0.7748179902150918, 'gamma': 0.23809609983504842}. Best is trial 2 with value: 0.8677590158320381.\n",
            "[I 2025-04-03 16:12:33,842] Trial 4 finished with value: 0.8652169331682515 and parameters: {'n_estimators': 144, 'max_depth': 9, 'learning_rate': 0.21915149047450003, 'subsample': 0.9841067822207639, 'colsample_bytree': 0.9343160972707756, 'gamma': 4.622173882324287}. Best is trial 2 with value: 0.8677590158320381.\n",
            "[I 2025-04-03 16:12:34,133] Trial 5 finished with value: 0.8472906403940886 and parameters: {'n_estimators': 541, 'max_depth': 10, 'learning_rate': 0.16350108915943828, 'subsample': 0.568223067722795, 'colsample_bytree': 0.9503118178908926, 'gamma': 1.4999607688287324}. Best is trial 2 with value: 0.8677590158320381.\n",
            "[I 2025-04-03 16:12:34,285] Trial 6 finished with value: 0.8535602328705777 and parameters: {'n_estimators': 210, 'max_depth': 6, 'learning_rate': 0.12669912018055077, 'subsample': 0.6636996047794038, 'colsample_bytree': 0.9018391797792624, 'gamma': 1.695271500465737}. Best is trial 2 with value: 0.8677590158320381.\n",
            "[I 2025-04-03 16:12:34,417] Trial 7 finished with value: 0.8573799425726402 and parameters: {'n_estimators': 311, 'max_depth': 5, 'learning_rate': 0.20585940316284926, 'subsample': 0.7833995663901019, 'colsample_bytree': 0.7550011231422685, 'gamma': 2.118350763344451}. Best is trial 2 with value: 0.8677590158320381.\n",
            "[I 2025-04-03 16:12:34,641] Trial 8 finished with value: 0.8575643423513606 and parameters: {'n_estimators': 926, 'max_depth': 5, 'learning_rate': 0.20249062972390852, 'subsample': 0.9820868239806106, 'colsample_bytree': 0.6065293009545005, 'gamma': 2.476574208284706}. Best is trial 2 with value: 0.8677590158320381.\n",
            "[I 2025-04-03 16:12:34,949] Trial 9 finished with value: 0.8622533652959616 and parameters: {'n_estimators': 700, 'max_depth': 8, 'learning_rate': 0.11712497884131168, 'subsample': 0.7865426869982399, 'colsample_bytree': 0.9102382030596776, 'gamma': 2.559051778232551}. Best is trial 2 with value: 0.8677590158320381.\n",
            "[I 2025-04-03 16:12:36,529] Trial 10 finished with value: 0.869892784700087 and parameters: {'n_estimators': 956, 'max_depth': 13, 'learning_rate': 0.028038968224830096, 'subsample': 0.5163401571817723, 'colsample_bytree': 0.5233599291007862, 'gamma': 4.7674623040433985}. Best is trial 10 with value: 0.869892784700087.\n",
            "[I 2025-04-03 16:12:37,345] Trial 11 finished with value: 0.8687600432022339 and parameters: {'n_estimators': 954, 'max_depth': 13, 'learning_rate': 0.014934189461859076, 'subsample': 0.502675520113359, 'colsample_bytree': 0.5100634094130674, 'gamma': 4.973430980172919}. Best is trial 10 with value: 0.869892784700087.\n",
            "[I 2025-04-03 16:12:37,754] Trial 12 finished with value: 0.8694712994915834 and parameters: {'n_estimators': 987, 'max_depth': 15, 'learning_rate': 0.01816928604976585, 'subsample': 0.5047362519317827, 'colsample_bytree': 0.5073350956423924, 'gamma': 3.501947032969912}. Best is trial 10 with value: 0.869892784700087.\n",
            "[I 2025-04-03 16:12:38,149] Trial 13 finished with value: 0.8714206685809119 and parameters: {'n_estimators': 841, 'max_depth': 15, 'learning_rate': 0.014210654474443803, 'subsample': 0.5034664777092748, 'colsample_bytree': 0.5113870605676322, 'gamma': 3.6199328896171785}. Best is trial 13 with value: 0.8714206685809119.\n",
            "[I 2025-04-03 16:12:38,441] Trial 14 finished with value: 0.8665472458575906 and parameters: {'n_estimators': 809, 'max_depth': 12, 'learning_rate': 0.0690430674556862, 'subsample': 0.6050712794399411, 'colsample_bytree': 0.616070371415441, 'gamma': 3.7128324628872016}. Best is trial 13 with value: 0.8714206685809119.\n",
            "[I 2025-04-03 16:12:38,734] Trial 15 finished with value: 0.8674429019256606 and parameters: {'n_estimators': 826, 'max_depth': 3, 'learning_rate': 0.06247548093331996, 'subsample': 0.5676787239949013, 'colsample_bytree': 0.6004510325703039, 'gamma': 3.246223914952159}. Best is trial 13 with value: 0.8714206685809119.\n",
            "[I 2025-04-03 16:12:38,998] Trial 16 finished with value: 0.863662706461895 and parameters: {'n_estimators': 835, 'max_depth': 15, 'learning_rate': 0.061377633960891104, 'subsample': 0.8810581735980119, 'colsample_bytree': 0.6737021097028435, 'gamma': 4.042416495763744}. Best is trial 13 with value: 0.8714206685809119.\n",
            "[I 2025-04-03 16:12:39,199] Trial 17 finished with value: 0.8470798977898368 and parameters: {'n_estimators': 495, 'max_depth': 13, 'learning_rate': 0.29039753127617784, 'subsample': 0.5908446010638312, 'colsample_bytree': 0.5690221823693347, 'gamma': 3.171418091797387}. Best is trial 13 with value: 0.8714206685809119.\n",
            "[I 2025-04-03 16:12:39,438] Trial 18 finished with value: 0.8622270224704301 and parameters: {'n_estimators': 759, 'max_depth': 13, 'learning_rate': 0.09067243071716996, 'subsample': 0.5230750012257197, 'colsample_bytree': 0.5543955344893999, 'gamma': 4.314703283110175}. Best is trial 13 with value: 0.8714206685809119.\n",
            "[I 2025-04-03 16:12:39,730] Trial 19 finished with value: 0.8707094122915623 and parameters: {'n_estimators': 904, 'max_depth': 12, 'learning_rate': 0.041168764610715516, 'subsample': 0.6173458693596352, 'colsample_bytree': 0.669076733549437, 'gamma': 4.906885798884004}. Best is trial 13 with value: 0.8714206685809119.\n",
            "[I 2025-04-03 16:12:40,068] Trial 20 finished with value: 0.8663365032533389 and parameters: {'n_estimators': 878, 'max_depth': 11, 'learning_rate': 0.04833537502264838, 'subsample': 0.6244149639281911, 'colsample_bytree': 0.6730997468945672, 'gamma': 2.964045049601028}. Best is trial 13 with value: 0.8714206685809119.\n",
            "[I 2025-04-03 16:12:40,415] Trial 21 finished with value: 0.8689444429809542 and parameters: {'n_estimators': 986, 'max_depth': 14, 'learning_rate': 0.028659115189431844, 'subsample': 0.5441667987779757, 'colsample_bytree': 0.5428095025255452, 'gamma': 4.870281121522146}. Best is trial 13 with value: 0.8714206685809119.\n",
            "[I 2025-04-03 16:12:40,716] Trial 22 finished with value: 0.8676273017043808 and parameters: {'n_estimators': 898, 'max_depth': 12, 'learning_rate': 0.09386937054691889, 'subsample': 0.5491457777987284, 'colsample_bytree': 0.6409291021589942, 'gamma': 3.9671748472457726}. Best is trial 13 with value: 0.8714206685809119.\n",
            "[I 2025-04-03 16:12:41,002] Trial 23 finished with value: 0.8697610705724296 and parameters: {'n_estimators': 742, 'max_depth': 15, 'learning_rate': 0.03681584165052636, 'subsample': 0.6264654771558056, 'colsample_bytree': 0.8414126507104632, 'gamma': 4.541155124741062}. Best is trial 13 with value: 0.8714206685809119.\n",
            "[I 2025-04-03 16:12:41,371] Trial 24 finished with value: 0.8696030136192409 and parameters: {'n_estimators': 886, 'max_depth': 14, 'learning_rate': 0.010693784083689047, 'subsample': 0.7207806449303062, 'colsample_bytree': 0.5006492353935901, 'gamma': 4.986828484520384}. Best is trial 13 with value: 0.8714206685809119.\n",
            "[I 2025-04-03 16:12:41,627] Trial 25 finished with value: 0.868654671900108 and parameters: {'n_estimators': 786, 'max_depth': 12, 'learning_rate': 0.08809086347836553, 'subsample': 0.5837295589069617, 'colsample_bytree': 0.5737189611334356, 'gamma': 3.8076240105628463}. Best is trial 13 with value: 0.8714206685809119.\n",
            "[I 2025-04-03 16:12:41,971] Trial 26 finished with value: 0.8658886752193039 and parameters: {'n_estimators': 999, 'max_depth': 11, 'learning_rate': 0.03657378816081554, 'subsample': 0.5284241979384834, 'colsample_bytree': 0.6935540999569458, 'gamma': 4.39604277617986}. Best is trial 13 with value: 0.8714206685809119.\n",
            "[I 2025-04-03 16:12:42,295] Trial 27 finished with value: 0.8610679381470456 and parameters: {'n_estimators': 874, 'max_depth': 14, 'learning_rate': 0.16499084561447167, 'subsample': 0.5000036780115252, 'colsample_bytree': 0.9904522632419785, 'gamma': 4.621672510722244}. Best is trial 13 with value: 0.8714206685809119.\n",
            "[I 2025-04-03 16:12:42,525] Trial 28 finished with value: 0.8687863860277655 and parameters: {'n_estimators': 472, 'max_depth': 13, 'learning_rate': 0.048552989880517955, 'subsample': 0.6289975659999973, 'colsample_bytree': 0.7230662678782652, 'gamma': 3.5326264119773594}. Best is trial 13 with value: 0.8714206685809119.\n",
            "[I 2025-04-03 16:12:43,110] Trial 29 finished with value: 0.8432338452622428 and parameters: {'n_estimators': 724, 'max_depth': 9, 'learning_rate': 0.11460255383277373, 'subsample': 0.8535790767250727, 'colsample_bytree': 0.6347553456493595, 'gamma': 0.04255165154099938}. Best is trial 13 with value: 0.8714206685809119.\n",
            "[I 2025-04-03 16:12:43,114] A new study created in memory with name: no-name-050c59e9-d4cf-4e02-b1fd-67474f7d64c0\n"
          ]
        },
        {
          "output_type": "stream",
          "name": "stdout",
          "text": [
            "Best AUC XGBoost: 0.8714206685809119\n",
            "Best Params XGBoost: {'n_estimators': 841, 'max_depth': 15, 'learning_rate': 0.014210654474443803, 'subsample': 0.5034664777092748, 'colsample_bytree': 0.5113870605676322, 'gamma': 3.6199328896171785}\n"
          ]
        },
        {
          "output_type": "stream",
          "name": "stderr",
          "text": [
            "[I 2025-04-03 16:12:44,871] Trial 0 finished with value: 0.8690234714575485 and parameters: {'n_estimators': 174, 'max_depth': 21, 'min_samples_split': 9, 'min_samples_leaf': 8, 'max_features': None, 'bootstrap': True}. Best is trial 0 with value: 0.8690234714575485.\n",
            "[I 2025-04-03 16:12:48,753] Trial 1 finished with value: 0.8709201548958141 and parameters: {'n_estimators': 852, 'max_depth': 28, 'min_samples_split': 7, 'min_samples_leaf': 7, 'max_features': 'log2', 'bootstrap': True}. Best is trial 1 with value: 0.8709201548958141.\n",
            "[I 2025-04-03 16:12:52,895] Trial 2 finished with value: 0.8713152972787861 and parameters: {'n_estimators': 959, 'max_depth': 26, 'min_samples_split': 6, 'min_samples_leaf': 9, 'max_features': 'sqrt', 'bootstrap': True}. Best is trial 2 with value: 0.8713152972787861.\n",
            "[I 2025-04-03 16:13:03,840] Trial 3 finished with value: 0.86509839045336 and parameters: {'n_estimators': 837, 'max_depth': 13, 'min_samples_split': 7, 'min_samples_leaf': 1, 'max_features': None, 'bootstrap': True}. Best is trial 2 with value: 0.8713152972787861.\n",
            "[I 2025-04-03 16:13:06,895] Trial 4 finished with value: 0.8678117014831012 and parameters: {'n_estimators': 573, 'max_depth': 15, 'min_samples_split': 5, 'min_samples_leaf': 5, 'max_features': 'log2', 'bootstrap': False}. Best is trial 2 with value: 0.8713152972787861.\n",
            "[I 2025-04-03 16:13:09,085] Trial 5 finished with value: 0.7937620189141488 and parameters: {'n_estimators': 133, 'max_depth': 29, 'min_samples_split': 8, 'min_samples_leaf': 9, 'max_features': None, 'bootstrap': False}. Best is trial 2 with value: 0.8713152972787861.\n",
            "[I 2025-04-03 16:13:11,428] Trial 6 finished with value: 0.8667316456363109 and parameters: {'n_estimators': 481, 'max_depth': 13, 'min_samples_split': 5, 'min_samples_leaf': 8, 'max_features': 'log2', 'bootstrap': False}. Best is trial 2 with value: 0.8713152972787861.\n",
            "[I 2025-04-03 16:13:16,143] Trial 7 finished with value: 0.8633334211427518 and parameters: {'n_estimators': 714, 'max_depth': 25, 'min_samples_split': 8, 'min_samples_leaf': 2, 'max_features': 'sqrt', 'bootstrap': False}. Best is trial 2 with value: 0.8713152972787861.\n",
            "[I 2025-04-03 16:13:22,701] Trial 8 finished with value: 0.7943679039013725 and parameters: {'n_estimators': 498, 'max_depth': 14, 'min_samples_split': 10, 'min_samples_leaf': 9, 'max_features': None, 'bootstrap': False}. Best is trial 2 with value: 0.8713152972787861.\n",
            "[I 2025-04-03 16:13:25,475] Trial 9 finished with value: 0.8712626116277233 and parameters: {'n_estimators': 681, 'max_depth': 15, 'min_samples_split': 10, 'min_samples_leaf': 10, 'max_features': 'sqrt', 'bootstrap': True}. Best is trial 2 with value: 0.8713152972787861.\n",
            "[I 2025-04-03 16:13:29,640] Trial 10 finished with value: 0.8693659281894576 and parameters: {'n_estimators': 997, 'max_depth': 5, 'min_samples_split': 2, 'min_samples_leaf': 5, 'max_features': 'sqrt', 'bootstrap': True}. Best is trial 2 with value: 0.8713152972787861.\n",
            "[I 2025-04-03 16:13:33,463] Trial 11 finished with value: 0.8703932983851848 and parameters: {'n_estimators': 991, 'max_depth': 20, 'min_samples_split': 3, 'min_samples_leaf': 10, 'max_features': 'sqrt', 'bootstrap': True}. Best is trial 2 with value: 0.8713152972787861.\n",
            "[I 2025-04-03 16:13:36,038] Trial 12 finished with value: 0.8707620979426255 and parameters: {'n_estimators': 705, 'max_depth': 8, 'min_samples_split': 5, 'min_samples_leaf': 10, 'max_features': 'sqrt', 'bootstrap': True}. Best is trial 2 with value: 0.8713152972787861.\n",
            "[I 2025-04-03 16:13:37,572] Trial 13 finished with value: 0.8732910091936461 and parameters: {'n_estimators': 365, 'max_depth': 23, 'min_samples_split': 6, 'min_samples_leaf': 6, 'max_features': 'sqrt', 'bootstrap': True}. Best is trial 13 with value: 0.8732910091936461.\n",
            "[I 2025-04-03 16:13:39,768] Trial 14 finished with value: 0.866231131951213 and parameters: {'n_estimators': 355, 'max_depth': 24, 'min_samples_split': 4, 'min_samples_leaf': 3, 'max_features': 'sqrt', 'bootstrap': True}. Best is trial 13 with value: 0.8732910091936461.\n",
            "[I 2025-04-03 16:13:41,314] Trial 15 finished with value: 0.8731066094149258 and parameters: {'n_estimators': 326, 'max_depth': 25, 'min_samples_split': 6, 'min_samples_leaf': 6, 'max_features': 'sqrt', 'bootstrap': True}. Best is trial 13 with value: 0.8732910091936461.\n",
            "[I 2025-04-03 16:13:42,486] Trial 16 finished with value: 0.8735544374489607 and parameters: {'n_estimators': 274, 'max_depth': 22, 'min_samples_split': 6, 'min_samples_leaf': 6, 'max_features': 'sqrt', 'bootstrap': True}. Best is trial 16 with value: 0.8735544374489607.\n",
            "[I 2025-04-03 16:13:43,761] Trial 17 finished with value: 0.8721582676957931 and parameters: {'n_estimators': 286, 'max_depth': 20, 'min_samples_split': 4, 'min_samples_leaf': 4, 'max_features': 'sqrt', 'bootstrap': True}. Best is trial 16 with value: 0.8735544374489607.\n",
            "[I 2025-04-03 16:13:44,735] Trial 18 finished with value: 0.8721846105213245 and parameters: {'n_estimators': 227, 'max_depth': 22, 'min_samples_split': 7, 'min_samples_leaf': 6, 'max_features': 'sqrt', 'bootstrap': True}. Best is trial 16 with value: 0.8735544374489607.\n",
            "[I 2025-04-03 16:13:46,505] Trial 19 finished with value: 0.872158267695793 and parameters: {'n_estimators': 406, 'max_depth': 18, 'min_samples_split': 4, 'min_samples_leaf': 4, 'max_features': 'log2', 'bootstrap': True}. Best is trial 16 with value: 0.8735544374489607.\n",
            "[I 2025-04-03 16:13:48,205] Trial 20 finished with value: 0.8704196412107164 and parameters: {'n_estimators': 417, 'max_depth': 30, 'min_samples_split': 8, 'min_samples_leaf': 7, 'max_features': 'sqrt', 'bootstrap': True}. Best is trial 16 with value: 0.8735544374489607.\n",
            "[I 2025-04-03 16:13:49,439] Trial 21 finished with value: 0.8727904955085483 and parameters: {'n_estimators': 290, 'max_depth': 23, 'min_samples_split': 6, 'min_samples_leaf': 6, 'max_features': 'sqrt', 'bootstrap': True}. Best is trial 16 with value: 0.8735544374489607.\n",
            "[I 2025-04-03 16:13:50,775] Trial 22 finished with value: 0.8711045546745344 and parameters: {'n_estimators': 282, 'max_depth': 27, 'min_samples_split': 6, 'min_samples_leaf': 7, 'max_features': 'sqrt', 'bootstrap': True}. Best is trial 16 with value: 0.8735544374489607.\n",
            "[I 2025-04-03 16:13:52,875] Trial 23 finished with value: 0.8730802665893944 and parameters: {'n_estimators': 350, 'max_depth': 18, 'min_samples_split': 5, 'min_samples_leaf': 6, 'max_features': 'sqrt', 'bootstrap': True}. Best is trial 16 with value: 0.8735544374489607.\n",
            "[I 2025-04-03 16:13:55,335] Trial 24 finished with value: 0.8710782118490029 and parameters: {'n_estimators': 563, 'max_depth': 25, 'min_samples_split': 6, 'min_samples_leaf': 4, 'max_features': 'sqrt', 'bootstrap': True}. Best is trial 16 with value: 0.8735544374489607.\n",
            "[I 2025-04-03 16:13:56,175] Trial 25 finished with value: 0.8690498142830799 and parameters: {'n_estimators': 192, 'max_depth': 23, 'min_samples_split': 7, 'min_samples_leaf': 5, 'max_features': 'sqrt', 'bootstrap': True}. Best is trial 16 with value: 0.8735544374489607.\n",
            "[I 2025-04-03 16:13:58,274] Trial 26 finished with value: 0.8668370169384367 and parameters: {'n_estimators': 416, 'max_depth': 27, 'min_samples_split': 6, 'min_samples_leaf': 7, 'max_features': 'sqrt', 'bootstrap': False}. Best is trial 16 with value: 0.8735544374489607.\n",
            "[I 2025-04-03 16:13:58,751] Trial 27 finished with value: 0.8699981560022128 and parameters: {'n_estimators': 105, 'max_depth': 19, 'min_samples_split': 3, 'min_samples_leaf': 6, 'max_features': 'sqrt', 'bootstrap': True}. Best is trial 16 with value: 0.8735544374489607.\n",
            "[I 2025-04-03 16:13:59,733] Trial 28 finished with value: 0.870235241431996 and parameters: {'n_estimators': 238, 'max_depth': 22, 'min_samples_split': 9, 'min_samples_leaf': 8, 'max_features': 'log2', 'bootstrap': True}. Best is trial 16 with value: 0.8735544374489607.\n",
            "[I 2025-04-03 16:14:03,999] Trial 29 finished with value: 0.8684439292958563 and parameters: {'n_estimators': 347, 'max_depth': 16, 'min_samples_split': 9, 'min_samples_leaf': 3, 'max_features': None, 'bootstrap': True}. Best is trial 16 with value: 0.8735544374489607.\n"
          ]
        },
        {
          "output_type": "stream",
          "name": "stdout",
          "text": [
            "Best AUC RandomForest: 0.8735544374489607\n",
            "Best Params RF: {'n_estimators': 274, 'max_depth': 22, 'min_samples_split': 6, 'min_samples_leaf': 6, 'max_features': 'sqrt', 'bootstrap': True}\n",
            "XGBoost Accuracy: 0.867579908675799\n",
            "RandomForest Accuracy: 0.8515981735159818\n"
          ]
        }
      ]
    }
  ]
}